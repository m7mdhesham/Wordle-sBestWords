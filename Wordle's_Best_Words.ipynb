{
 "cells": [
  {
   "cell_type": "code",
   "execution_count": 1,
   "id": "9be9ce6b",
   "metadata": {},
   "outputs": [],
   "source": [
    "import numpy as np\n",
    "import pandas as pd\n",
    "import matplotlib as plt\n",
    "import matplotlib.pyplot as plt\n",
    "import warnings \n",
    "warnings.filterwarnings(\"ignore\")"
   ]
  },
  {
   "cell_type": "code",
   "execution_count": 2,
   "id": "d91be4e9",
   "metadata": {},
   "outputs": [],
   "source": [
    "with open ('words_alpha.txt') as t:\n",
    "    lines = t.readlines()"
   ]
  },
  {
   "cell_type": "code",
   "execution_count": 3,
   "id": "3d304191",
   "metadata": {},
   "outputs": [
    {
     "data": {
      "text/plain": [
       "370103"
      ]
     },
     "execution_count": 3,
     "metadata": {},
     "output_type": "execute_result"
    }
   ],
   "source": [
    "len(lines)"
   ]
  },
  {
   "cell_type": "code",
   "execution_count": 4,
   "id": "b177b598",
   "metadata": {},
   "outputs": [],
   "source": [
    "words_5 = []\n",
    "for word in lines:\n",
    "    word = word.replace(\"\\n\", \"\")\n",
    "    w = word.replace(\"\\n\", \"\")\n",
    "    if len(w) == 5:\n",
    "        words_5.append(w)"
   ]
  },
  {
   "cell_type": "code",
   "execution_count": 5,
   "id": "2e94aad4",
   "metadata": {},
   "outputs": [
    {
     "data": {
      "text/plain": [
       "15918"
      ]
     },
     "execution_count": 5,
     "metadata": {},
     "output_type": "execute_result"
    }
   ],
   "source": [
    "len(words_5)"
   ]
  },
  {
   "cell_type": "code",
   "execution_count": 6,
   "id": "8e24bf8e",
   "metadata": {},
   "outputs": [],
   "source": [
    "words_Not_Repeated = []\n",
    "for word in words_5:\n",
    "    w = \"\"\n",
    "    for letter in word:\n",
    "        if w.find(letter) == -1:\n",
    "            w += letter\n",
    "    if len(w) == 5:\n",
    "        words_Not_Repeated.append(w)"
   ]
  },
  {
   "cell_type": "code",
   "execution_count": 7,
   "id": "1440c443",
   "metadata": {},
   "outputs": [
    {
     "data": {
      "text/plain": [
       "10173"
      ]
     },
     "execution_count": 7,
     "metadata": {},
     "output_type": "execute_result"
    }
   ],
   "source": [
    "len(words_Not_Repeated)"
   ]
  },
  {
   "cell_type": "code",
   "execution_count": 9,
   "id": "a9cd62a7",
   "metadata": {},
   "outputs": [
    {
     "data": {
      "text/plain": [
       "<BarContainer object of 26 artists>"
      ]
     },
     "execution_count": 9,
     "metadata": {},
     "output_type": "execute_result"
    },
    {
     "data": {
      "image/png": "[encoded data removed]",
      "text/plain": [
       "<Figure size 432x288 with 1 Axes>"
      ]
     },
     "metadata": {
      "needs_background": "light"
     },
     "output_type": "display_data"
    }
   ],
   "source": [
    "weight = {}\n",
    "for i in range(26):\n",
    "    weight[chr(i+97)] = 0\n",
    "\n",
    "for word in words_Not_Repeated:\n",
    "    for letter in word:\n",
    "        if (ord(letter) - 97) > -1:\n",
    "            weight[letter] +=1\n",
    "plt.bar (weight.keys(), weight.values())"
   ]
  },
  {
   "cell_type": "code",
   "execution_count": 10,
   "id": "95b4caea",
   "metadata": {},
   "outputs": [],
   "source": [
    "scores = {}\n",
    "for word in words_Not_Repeated:\n",
    "    for letter in word:\n",
    "        scores[word] = scores.get(word,0) + weight.get(letter,0)\n",
    "max_key = max(scores, key=scores.get)"
   ]
  },
  {
   "cell_type": "code",
   "execution_count": 11,
   "id": "53bf4219",
   "metadata": {},
   "outputs": [
    {
     "data": {
      "text/plain": [
       "'aesir'"
      ]
     },
     "execution_count": 11,
     "metadata": {},
     "output_type": "execute_result"
    }
   ],
   "source": [
    "max_key"
   ]
  },
  {
   "cell_type": "code",
   "execution_count": 12,
   "id": "c664bdb4",
   "metadata": {},
   "outputs": [],
   "source": [
    "result = []\n",
    "weight2 = weight.copy()\n",
    "for i in range(5):\n",
    "    scores = {}\n",
    "    for word in words_Not_Repeated:\n",
    "        for letter in word:\n",
    "            scores[word] = scores.get(word,0) + weight2.get(letter,0)\n",
    "    max_key = max(scores, key=scores.get)\n",
    "    result.append(max_key)\n",
    "    for letter in max_key:\n",
    "        weight2[letter] = 0"
   ]
  },
  {
   "cell_type": "code",
   "execution_count": 13,
   "id": "5cb67fa8",
   "metadata": {},
   "outputs": [
    {
     "data": {
      "text/plain": [
       "['aesir', 'clout', 'nymph', 'badge', 'flowk']"
      ]
     },
     "execution_count": 13,
     "metadata": {},
     "output_type": "execute_result"
    }
   ],
   "source": [
    "result"
   ]
  },
  {
   "cell_type": "code",
   "execution_count": null,
   "id": "6b02ddd4",
   "metadata": {},
   "outputs": [],
   "source": []
  }
 ],
 "metadata": {
  "kernelspec": {
   "display_name": "Python 3",
   "language": "python",
   "name": "python3"
  },
  "language_info": {
   "codemirror_mode": {
    "name": "ipython",
    "version": 3
   },
   "file_extension": ".py",
   "mimetype": "text/x-python",
   "name": "python",
   "nbconvert_exporter": "python",
   "pygments_lexer": "ipython3",
   "version": "3.6.15"
  }
 },
 "nbformat": 4,
 "nbformat_minor": 5
}
